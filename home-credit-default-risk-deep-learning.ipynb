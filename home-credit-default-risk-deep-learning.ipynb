{
 "cells": [
  {
   "cell_type": "code",
   "execution_count": 1,
   "id": "b4400b6f",
   "metadata": {
    "_cell_guid": "b1076dfc-b9ad-4769-8c92-a6c4dae69d19",
    "_uuid": "8f2839f25d086af736a60e9eeb907d3b93b6e0e5",
    "execution": {
     "iopub.execute_input": "2024-01-21T07:59:59.341186Z",
     "iopub.status.busy": "2024-01-21T07:59:59.340311Z",
     "iopub.status.idle": "2024-01-21T08:00:14.886842Z",
     "shell.execute_reply": "2024-01-21T08:00:14.885734Z"
    },
    "papermill": {
     "duration": 15.557411,
     "end_time": "2024-01-21T08:00:14.889522",
     "exception": false,
     "start_time": "2024-01-21T07:59:59.332111",
     "status": "completed"
    },
    "tags": []
   },
   "outputs": [],
   "source": [
    "\n",
    "\n",
    "import numpy as np # linear algebra\n",
    "import pandas as pd # data processing, CSV file I/O (e.g. pd.read_csv)\n",
    "import os\n",
    "from tensorflow.keras.models import Sequential\n",
    "from tensorflow.keras.layers import Dense\n",
    "from sklearn.preprocessing import OneHotEncoder\n",
    "import tensorflow as tf\n",
    "# for dirname, _, filenames in os.walk('/kaggle/input'):\n",
    "#     for filename in filenames:\n",
    "#         print(os.path.join(dirname, filename))\n",
    "\n"
   ]
  },
  {
   "cell_type": "code",
   "execution_count": 2,
   "id": "5bbfb277",
   "metadata": {
    "execution": {
     "iopub.execute_input": "2024-01-21T08:00:14.905193Z",
     "iopub.status.busy": "2024-01-21T08:00:14.904548Z",
     "iopub.status.idle": "2024-01-21T08:00:30.186131Z",
     "shell.execute_reply": "2024-01-21T08:00:30.184821Z"
    },
    "papermill": {
     "duration": 15.291526,
     "end_time": "2024-01-21T08:00:30.188089",
     "exception": false,
     "start_time": "2024-01-21T08:00:14.896563",
     "status": "completed"
    },
    "tags": []
   },
   "outputs": [
    {
     "data": {
      "text/plain": [
       "Index(['SK_ID_CURR', 'TARGET', 'NAME_CONTRACT_TYPE', 'CODE_GENDER',\n",
       "       'FLAG_OWN_CAR', 'FLAG_OWN_REALTY', 'CNT_CHILDREN', 'AMT_INCOME_TOTAL',\n",
       "       'AMT_CREDIT', 'AMT_ANNUITY',\n",
       "       ...\n",
       "       'FLAG_DOCUMENT_18', 'FLAG_DOCUMENT_19', 'FLAG_DOCUMENT_20',\n",
       "       'FLAG_DOCUMENT_21', 'AMT_REQ_CREDIT_BUREAU_HOUR',\n",
       "       'AMT_REQ_CREDIT_BUREAU_DAY', 'AMT_REQ_CREDIT_BUREAU_WEEK',\n",
       "       'AMT_REQ_CREDIT_BUREAU_MON', 'AMT_REQ_CREDIT_BUREAU_QRT',\n",
       "       'AMT_REQ_CREDIT_BUREAU_YEAR'],\n",
       "      dtype='object', length=122)"
      ]
     },
     "execution_count": 2,
     "metadata": {},
     "output_type": "execute_result"
    }
   ],
   "source": [
    "directory = \"/kaggle/input/home-credit-default-risk\"\n",
    "sample_submission = pd.read_csv(directory + \"/sample_submission.csv\")\n",
    "sample_submission\n",
    "\n",
    "application_train = pd.read_csv(directory + \"/application_train.csv\")\n",
    "credit_card_balance = pd.read_csv(directory + \"/credit_card_balance.csv\")\n",
    "credit_card_balance.head(5)\n",
    "\n",
    "application_train.columns\n",
    "#Credit_Bureau ->credit ratings of individuals"
   ]
  },
  {
   "cell_type": "code",
   "execution_count": 3,
   "id": "ae4b4349",
   "metadata": {
    "execution": {
     "iopub.execute_input": "2024-01-21T08:00:30.204879Z",
     "iopub.status.busy": "2024-01-21T08:00:30.204237Z",
     "iopub.status.idle": "2024-01-21T08:00:30.212727Z",
     "shell.execute_reply": "2024-01-21T08:00:30.210420Z"
    },
    "papermill": {
     "duration": 0.020294,
     "end_time": "2024-01-21T08:00:30.215163",
     "exception": false,
     "start_time": "2024-01-21T08:00:30.194869",
     "status": "completed"
    },
    "tags": []
   },
   "outputs": [
    {
     "name": "stdout",
     "output_type": "stream",
     "text": [
      "Shape of training data:(307511, 122)\n"
     ]
    }
   ],
   "source": [
    "print(f\"Shape of training data:{application_train.shape}\")"
   ]
  },
  {
   "cell_type": "markdown",
   "id": "1c039e34",
   "metadata": {
    "papermill": {
     "duration": 0.006563,
     "end_time": "2024-01-21T08:00:30.228871",
     "exception": false,
     "start_time": "2024-01-21T08:00:30.222308",
     "status": "completed"
    },
    "tags": []
   },
   "source": [
    "Since we have so many columns, lets try to filter some out.\n",
    "\n",
    "We can first take a look at which columns have the most NaN values."
   ]
  },
  {
   "cell_type": "code",
   "execution_count": 4,
   "id": "bcd228e7",
   "metadata": {
    "execution": {
     "iopub.execute_input": "2024-01-21T08:00:30.244295Z",
     "iopub.status.busy": "2024-01-21T08:00:30.243896Z",
     "iopub.status.idle": "2024-01-21T08:00:30.250266Z",
     "shell.execute_reply": "2024-01-21T08:00:30.248564Z"
    },
    "papermill": {
     "duration": 0.017435,
     "end_time": "2024-01-21T08:00:30.253242",
     "exception": false,
     "start_time": "2024-01-21T08:00:30.235807",
     "status": "completed"
    },
    "tags": []
   },
   "outputs": [],
   "source": [
    "def check_nan_columns(df):\n",
    "    for col in df.columns:\n",
    "        print(f\"Number of NaN values in {col} : {df[col].isnull().sum()}\")"
   ]
  },
  {
   "cell_type": "code",
   "execution_count": 5,
   "id": "5fb3aa51",
   "metadata": {
    "execution": {
     "iopub.execute_input": "2024-01-21T08:00:30.268986Z",
     "iopub.status.busy": "2024-01-21T08:00:30.268644Z",
     "iopub.status.idle": "2024-01-21T08:00:30.474816Z",
     "shell.execute_reply": "2024-01-21T08:00:30.472981Z"
    },
    "papermill": {
     "duration": 0.217395,
     "end_time": "2024-01-21T08:00:30.477724",
     "exception": false,
     "start_time": "2024-01-21T08:00:30.260329",
     "status": "completed"
    },
    "tags": []
   },
   "outputs": [
    {
     "name": "stdout",
     "output_type": "stream",
     "text": [
      "Number of NaN values in SK_ID_CURR : 0\n",
      "Number of NaN values in TARGET : 0\n",
      "Number of NaN values in NAME_CONTRACT_TYPE : 0\n",
      "Number of NaN values in CODE_GENDER : 0\n",
      "Number of NaN values in FLAG_OWN_CAR : 0\n",
      "Number of NaN values in FLAG_OWN_REALTY : 0\n",
      "Number of NaN values in CNT_CHILDREN : 0\n",
      "Number of NaN values in AMT_INCOME_TOTAL : 0\n",
      "Number of NaN values in AMT_CREDIT : 0\n",
      "Number of NaN values in AMT_ANNUITY : 12\n",
      "Number of NaN values in AMT_GOODS_PRICE : 278\n",
      "Number of NaN values in NAME_TYPE_SUITE : 1292\n",
      "Number of NaN values in NAME_INCOME_TYPE : 0\n",
      "Number of NaN values in NAME_EDUCATION_TYPE : 0\n",
      "Number of NaN values in NAME_FAMILY_STATUS : 0\n",
      "Number of NaN values in NAME_HOUSING_TYPE : 0\n",
      "Number of NaN values in REGION_POPULATION_RELATIVE : 0\n",
      "Number of NaN values in DAYS_BIRTH : 0\n",
      "Number of NaN values in DAYS_EMPLOYED : 0\n",
      "Number of NaN values in DAYS_REGISTRATION : 0\n",
      "Number of NaN values in DAYS_ID_PUBLISH : 0\n",
      "Number of NaN values in OWN_CAR_AGE : 202929\n",
      "Number of NaN values in FLAG_MOBIL : 0\n",
      "Number of NaN values in FLAG_EMP_PHONE : 0\n",
      "Number of NaN values in FLAG_WORK_PHONE : 0\n",
      "Number of NaN values in FLAG_CONT_MOBILE : 0\n",
      "Number of NaN values in FLAG_PHONE : 0\n",
      "Number of NaN values in FLAG_EMAIL : 0\n",
      "Number of NaN values in OCCUPATION_TYPE : 96391\n",
      "Number of NaN values in CNT_FAM_MEMBERS : 2\n",
      "Number of NaN values in REGION_RATING_CLIENT : 0\n",
      "Number of NaN values in REGION_RATING_CLIENT_W_CITY : 0\n",
      "Number of NaN values in WEEKDAY_APPR_PROCESS_START : 0\n",
      "Number of NaN values in HOUR_APPR_PROCESS_START : 0\n",
      "Number of NaN values in REG_REGION_NOT_LIVE_REGION : 0\n",
      "Number of NaN values in REG_REGION_NOT_WORK_REGION : 0\n",
      "Number of NaN values in LIVE_REGION_NOT_WORK_REGION : 0\n",
      "Number of NaN values in REG_CITY_NOT_LIVE_CITY : 0\n",
      "Number of NaN values in REG_CITY_NOT_WORK_CITY : 0\n",
      "Number of NaN values in LIVE_CITY_NOT_WORK_CITY : 0\n",
      "Number of NaN values in ORGANIZATION_TYPE : 0\n",
      "Number of NaN values in EXT_SOURCE_1 : 173378\n",
      "Number of NaN values in EXT_SOURCE_2 : 660\n",
      "Number of NaN values in EXT_SOURCE_3 : 60965\n",
      "Number of NaN values in APARTMENTS_AVG : 156061\n",
      "Number of NaN values in BASEMENTAREA_AVG : 179943\n",
      "Number of NaN values in YEARS_BEGINEXPLUATATION_AVG : 150007\n",
      "Number of NaN values in YEARS_BUILD_AVG : 204488\n",
      "Number of NaN values in COMMONAREA_AVG : 214865\n",
      "Number of NaN values in ELEVATORS_AVG : 163891\n",
      "Number of NaN values in ENTRANCES_AVG : 154828\n",
      "Number of NaN values in FLOORSMAX_AVG : 153020\n",
      "Number of NaN values in FLOORSMIN_AVG : 208642\n",
      "Number of NaN values in LANDAREA_AVG : 182590\n",
      "Number of NaN values in LIVINGAPARTMENTS_AVG : 210199\n",
      "Number of NaN values in LIVINGAREA_AVG : 154350\n",
      "Number of NaN values in NONLIVINGAPARTMENTS_AVG : 213514\n",
      "Number of NaN values in NONLIVINGAREA_AVG : 169682\n",
      "Number of NaN values in APARTMENTS_MODE : 156061\n",
      "Number of NaN values in BASEMENTAREA_MODE : 179943\n",
      "Number of NaN values in YEARS_BEGINEXPLUATATION_MODE : 150007\n",
      "Number of NaN values in YEARS_BUILD_MODE : 204488\n",
      "Number of NaN values in COMMONAREA_MODE : 214865\n",
      "Number of NaN values in ELEVATORS_MODE : 163891\n",
      "Number of NaN values in ENTRANCES_MODE : 154828\n",
      "Number of NaN values in FLOORSMAX_MODE : 153020\n",
      "Number of NaN values in FLOORSMIN_MODE : 208642\n",
      "Number of NaN values in LANDAREA_MODE : 182590\n",
      "Number of NaN values in LIVINGAPARTMENTS_MODE : 210199\n",
      "Number of NaN values in LIVINGAREA_MODE : 154350\n",
      "Number of NaN values in NONLIVINGAPARTMENTS_MODE : 213514\n",
      "Number of NaN values in NONLIVINGAREA_MODE : 169682\n",
      "Number of NaN values in APARTMENTS_MEDI : 156061\n",
      "Number of NaN values in BASEMENTAREA_MEDI : 179943\n",
      "Number of NaN values in YEARS_BEGINEXPLUATATION_MEDI : 150007\n",
      "Number of NaN values in YEARS_BUILD_MEDI : 204488\n",
      "Number of NaN values in COMMONAREA_MEDI : 214865\n",
      "Number of NaN values in ELEVATORS_MEDI : 163891\n",
      "Number of NaN values in ENTRANCES_MEDI : 154828\n",
      "Number of NaN values in FLOORSMAX_MEDI : 153020\n",
      "Number of NaN values in FLOORSMIN_MEDI : 208642\n",
      "Number of NaN values in LANDAREA_MEDI : 182590\n",
      "Number of NaN values in LIVINGAPARTMENTS_MEDI : 210199\n",
      "Number of NaN values in LIVINGAREA_MEDI : 154350\n",
      "Number of NaN values in NONLIVINGAPARTMENTS_MEDI : 213514\n",
      "Number of NaN values in NONLIVINGAREA_MEDI : 169682\n",
      "Number of NaN values in FONDKAPREMONT_MODE : 210295\n",
      "Number of NaN values in HOUSETYPE_MODE : 154297\n",
      "Number of NaN values in TOTALAREA_MODE : 148431\n",
      "Number of NaN values in WALLSMATERIAL_MODE : 156341\n",
      "Number of NaN values in EMERGENCYSTATE_MODE : 145755\n",
      "Number of NaN values in OBS_30_CNT_SOCIAL_CIRCLE : 1021\n",
      "Number of NaN values in DEF_30_CNT_SOCIAL_CIRCLE : 1021\n",
      "Number of NaN values in OBS_60_CNT_SOCIAL_CIRCLE : 1021\n",
      "Number of NaN values in DEF_60_CNT_SOCIAL_CIRCLE : 1021\n",
      "Number of NaN values in DAYS_LAST_PHONE_CHANGE : 1\n",
      "Number of NaN values in FLAG_DOCUMENT_2 : 0\n",
      "Number of NaN values in FLAG_DOCUMENT_3 : 0\n",
      "Number of NaN values in FLAG_DOCUMENT_4 : 0\n",
      "Number of NaN values in FLAG_DOCUMENT_5 : 0\n",
      "Number of NaN values in FLAG_DOCUMENT_6 : 0\n",
      "Number of NaN values in FLAG_DOCUMENT_7 : 0\n",
      "Number of NaN values in FLAG_DOCUMENT_8 : 0\n",
      "Number of NaN values in FLAG_DOCUMENT_9 : 0\n",
      "Number of NaN values in FLAG_DOCUMENT_10 : 0\n",
      "Number of NaN values in FLAG_DOCUMENT_11 : 0\n",
      "Number of NaN values in FLAG_DOCUMENT_12 : 0\n",
      "Number of NaN values in FLAG_DOCUMENT_13 : 0\n",
      "Number of NaN values in FLAG_DOCUMENT_14 : 0\n",
      "Number of NaN values in FLAG_DOCUMENT_15 : 0\n",
      "Number of NaN values in FLAG_DOCUMENT_16 : 0\n",
      "Number of NaN values in FLAG_DOCUMENT_17 : 0\n",
      "Number of NaN values in FLAG_DOCUMENT_18 : 0\n",
      "Number of NaN values in FLAG_DOCUMENT_19 : 0\n",
      "Number of NaN values in FLAG_DOCUMENT_20 : 0\n",
      "Number of NaN values in FLAG_DOCUMENT_21 : 0\n",
      "Number of NaN values in AMT_REQ_CREDIT_BUREAU_HOUR : 41519\n",
      "Number of NaN values in AMT_REQ_CREDIT_BUREAU_DAY : 41519\n",
      "Number of NaN values in AMT_REQ_CREDIT_BUREAU_WEEK : 41519\n",
      "Number of NaN values in AMT_REQ_CREDIT_BUREAU_MON : 41519\n",
      "Number of NaN values in AMT_REQ_CREDIT_BUREAU_QRT : 41519\n",
      "Number of NaN values in AMT_REQ_CREDIT_BUREAU_YEAR : 41519\n"
     ]
    }
   ],
   "source": [
    "df_train = application_train\n",
    "check_nan_columns(df_train)"
   ]
  },
  {
   "cell_type": "code",
   "execution_count": 6,
   "id": "f107d28d",
   "metadata": {
    "execution": {
     "iopub.execute_input": "2024-01-21T08:00:30.493897Z",
     "iopub.status.busy": "2024-01-21T08:00:30.493462Z",
     "iopub.status.idle": "2024-01-21T08:00:30.691999Z",
     "shell.execute_reply": "2024-01-21T08:00:30.690424Z"
    },
    "papermill": {
     "duration": 0.209696,
     "end_time": "2024-01-21T08:00:30.694830",
     "exception": false,
     "start_time": "2024-01-21T08:00:30.485134",
     "status": "completed"
    },
    "tags": []
   },
   "outputs": [],
   "source": [
    "columns_to_drop = []\n",
    "for col in df_train.columns:\n",
    "    if df_train[col].isnull().sum() > 1000:\n",
    "        columns_to_drop.append(col)"
   ]
  },
  {
   "cell_type": "markdown",
   "id": "2a14e946",
   "metadata": {
    "papermill": {
     "duration": 0.007503,
     "end_time": "2024-01-21T08:00:30.709625",
     "exception": false,
     "start_time": "2024-01-21T08:00:30.702122",
     "status": "completed"
    },
    "tags": []
   },
   "source": [
    "Lets drop some of the rows where there exist alot of NaN values."
   ]
  },
  {
   "cell_type": "code",
   "execution_count": 7,
   "id": "d3fb8d52",
   "metadata": {
    "execution": {
     "iopub.execute_input": "2024-01-21T08:00:30.726411Z",
     "iopub.status.busy": "2024-01-21T08:00:30.726030Z",
     "iopub.status.idle": "2024-01-21T08:00:30.734820Z",
     "shell.execute_reply": "2024-01-21T08:00:30.733329Z"
    },
    "papermill": {
     "duration": 0.020065,
     "end_time": "2024-01-21T08:00:30.736874",
     "exception": false,
     "start_time": "2024-01-21T08:00:30.716809",
     "status": "completed"
    },
    "tags": []
   },
   "outputs": [
    {
     "data": {
      "text/plain": [
       "['NAME_TYPE_SUITE',\n",
       " 'OWN_CAR_AGE',\n",
       " 'OCCUPATION_TYPE',\n",
       " 'EXT_SOURCE_1',\n",
       " 'EXT_SOURCE_3',\n",
       " 'APARTMENTS_AVG',\n",
       " 'BASEMENTAREA_AVG',\n",
       " 'YEARS_BEGINEXPLUATATION_AVG',\n",
       " 'YEARS_BUILD_AVG',\n",
       " 'COMMONAREA_AVG',\n",
       " 'ELEVATORS_AVG',\n",
       " 'ENTRANCES_AVG',\n",
       " 'FLOORSMAX_AVG',\n",
       " 'FLOORSMIN_AVG',\n",
       " 'LANDAREA_AVG',\n",
       " 'LIVINGAPARTMENTS_AVG',\n",
       " 'LIVINGAREA_AVG',\n",
       " 'NONLIVINGAPARTMENTS_AVG',\n",
       " 'NONLIVINGAREA_AVG',\n",
       " 'APARTMENTS_MODE',\n",
       " 'BASEMENTAREA_MODE',\n",
       " 'YEARS_BEGINEXPLUATATION_MODE',\n",
       " 'YEARS_BUILD_MODE',\n",
       " 'COMMONAREA_MODE',\n",
       " 'ELEVATORS_MODE',\n",
       " 'ENTRANCES_MODE',\n",
       " 'FLOORSMAX_MODE',\n",
       " 'FLOORSMIN_MODE',\n",
       " 'LANDAREA_MODE',\n",
       " 'LIVINGAPARTMENTS_MODE',\n",
       " 'LIVINGAREA_MODE',\n",
       " 'NONLIVINGAPARTMENTS_MODE',\n",
       " 'NONLIVINGAREA_MODE',\n",
       " 'APARTMENTS_MEDI',\n",
       " 'BASEMENTAREA_MEDI',\n",
       " 'YEARS_BEGINEXPLUATATION_MEDI',\n",
       " 'YEARS_BUILD_MEDI',\n",
       " 'COMMONAREA_MEDI',\n",
       " 'ELEVATORS_MEDI',\n",
       " 'ENTRANCES_MEDI',\n",
       " 'FLOORSMAX_MEDI',\n",
       " 'FLOORSMIN_MEDI',\n",
       " 'LANDAREA_MEDI',\n",
       " 'LIVINGAPARTMENTS_MEDI',\n",
       " 'LIVINGAREA_MEDI',\n",
       " 'NONLIVINGAPARTMENTS_MEDI',\n",
       " 'NONLIVINGAREA_MEDI',\n",
       " 'FONDKAPREMONT_MODE',\n",
       " 'HOUSETYPE_MODE',\n",
       " 'TOTALAREA_MODE',\n",
       " 'WALLSMATERIAL_MODE',\n",
       " 'EMERGENCYSTATE_MODE',\n",
       " 'OBS_30_CNT_SOCIAL_CIRCLE',\n",
       " 'DEF_30_CNT_SOCIAL_CIRCLE',\n",
       " 'OBS_60_CNT_SOCIAL_CIRCLE',\n",
       " 'DEF_60_CNT_SOCIAL_CIRCLE',\n",
       " 'AMT_REQ_CREDIT_BUREAU_HOUR',\n",
       " 'AMT_REQ_CREDIT_BUREAU_DAY',\n",
       " 'AMT_REQ_CREDIT_BUREAU_WEEK',\n",
       " 'AMT_REQ_CREDIT_BUREAU_MON',\n",
       " 'AMT_REQ_CREDIT_BUREAU_QRT',\n",
       " 'AMT_REQ_CREDIT_BUREAU_YEAR']"
      ]
     },
     "execution_count": 7,
     "metadata": {},
     "output_type": "execute_result"
    }
   ],
   "source": [
    "columns_to_drop"
   ]
  },
  {
   "cell_type": "code",
   "execution_count": 8,
   "id": "6e7b5172",
   "metadata": {
    "execution": {
     "iopub.execute_input": "2024-01-21T08:00:30.753098Z",
     "iopub.status.busy": "2024-01-21T08:00:30.752509Z",
     "iopub.status.idle": "2024-01-21T08:00:30.825318Z",
     "shell.execute_reply": "2024-01-21T08:00:30.824568Z"
    },
    "papermill": {
     "duration": 0.084478,
     "end_time": "2024-01-21T08:00:30.828583",
     "exception": false,
     "start_time": "2024-01-21T08:00:30.744105",
     "status": "completed"
    },
    "tags": []
   },
   "outputs": [],
   "source": [
    "df_train.drop(columns_to_drop, axis = 1, inplace=True)"
   ]
  },
  {
   "cell_type": "code",
   "execution_count": 9,
   "id": "953faf63",
   "metadata": {
    "execution": {
     "iopub.execute_input": "2024-01-21T08:00:30.846151Z",
     "iopub.status.busy": "2024-01-21T08:00:30.845759Z",
     "iopub.status.idle": "2024-01-21T08:00:30.854341Z",
     "shell.execute_reply": "2024-01-21T08:00:30.853029Z"
    },
    "papermill": {
     "duration": 0.01999,
     "end_time": "2024-01-21T08:00:30.856217",
     "exception": false,
     "start_time": "2024-01-21T08:00:30.836227",
     "status": "completed"
    },
    "tags": []
   },
   "outputs": [
    {
     "data": {
      "text/plain": [
       "Index(['SK_ID_CURR', 'TARGET', 'NAME_CONTRACT_TYPE', 'CODE_GENDER',\n",
       "       'FLAG_OWN_CAR', 'FLAG_OWN_REALTY', 'CNT_CHILDREN', 'AMT_INCOME_TOTAL',\n",
       "       'AMT_CREDIT', 'AMT_ANNUITY', 'AMT_GOODS_PRICE', 'NAME_INCOME_TYPE',\n",
       "       'NAME_EDUCATION_TYPE', 'NAME_FAMILY_STATUS', 'NAME_HOUSING_TYPE',\n",
       "       'REGION_POPULATION_RELATIVE', 'DAYS_BIRTH', 'DAYS_EMPLOYED',\n",
       "       'DAYS_REGISTRATION', 'DAYS_ID_PUBLISH', 'FLAG_MOBIL', 'FLAG_EMP_PHONE',\n",
       "       'FLAG_WORK_PHONE', 'FLAG_CONT_MOBILE', 'FLAG_PHONE', 'FLAG_EMAIL',\n",
       "       'CNT_FAM_MEMBERS', 'REGION_RATING_CLIENT',\n",
       "       'REGION_RATING_CLIENT_W_CITY', 'WEEKDAY_APPR_PROCESS_START',\n",
       "       'HOUR_APPR_PROCESS_START', 'REG_REGION_NOT_LIVE_REGION',\n",
       "       'REG_REGION_NOT_WORK_REGION', 'LIVE_REGION_NOT_WORK_REGION',\n",
       "       'REG_CITY_NOT_LIVE_CITY', 'REG_CITY_NOT_WORK_CITY',\n",
       "       'LIVE_CITY_NOT_WORK_CITY', 'ORGANIZATION_TYPE', 'EXT_SOURCE_2',\n",
       "       'DAYS_LAST_PHONE_CHANGE', 'FLAG_DOCUMENT_2', 'FLAG_DOCUMENT_3',\n",
       "       'FLAG_DOCUMENT_4', 'FLAG_DOCUMENT_5', 'FLAG_DOCUMENT_6',\n",
       "       'FLAG_DOCUMENT_7', 'FLAG_DOCUMENT_8', 'FLAG_DOCUMENT_9',\n",
       "       'FLAG_DOCUMENT_10', 'FLAG_DOCUMENT_11', 'FLAG_DOCUMENT_12',\n",
       "       'FLAG_DOCUMENT_13', 'FLAG_DOCUMENT_14', 'FLAG_DOCUMENT_15',\n",
       "       'FLAG_DOCUMENT_16', 'FLAG_DOCUMENT_17', 'FLAG_DOCUMENT_18',\n",
       "       'FLAG_DOCUMENT_19', 'FLAG_DOCUMENT_20', 'FLAG_DOCUMENT_21'],\n",
       "      dtype='object')"
      ]
     },
     "execution_count": 9,
     "metadata": {},
     "output_type": "execute_result"
    }
   ],
   "source": [
    "df_train.columns "
   ]
  },
  {
   "cell_type": "markdown",
   "id": "763a2654",
   "metadata": {
    "papermill": {
     "duration": 0.008053,
     "end_time": "2024-01-21T08:00:30.871827",
     "exception": false,
     "start_time": "2024-01-21T08:00:30.863774",
     "status": "completed"
    },
    "tags": []
   },
   "source": [
    "So now we have successfully dropped the columns with a lot of NaN values. Lets take a look into the columns a little deeper to see which columns may not be useful for our model."
   ]
  },
  {
   "cell_type": "code",
   "execution_count": 10,
   "id": "4a10a71e",
   "metadata": {
    "execution": {
     "iopub.execute_input": "2024-01-21T08:00:30.888647Z",
     "iopub.status.busy": "2024-01-21T08:00:30.887723Z",
     "iopub.status.idle": "2024-01-21T08:00:31.001791Z",
     "shell.execute_reply": "2024-01-21T08:00:31.000168Z"
    },
    "papermill": {
     "duration": 0.124781,
     "end_time": "2024-01-21T08:00:31.003995",
     "exception": false,
     "start_time": "2024-01-21T08:00:30.879214",
     "status": "completed"
    },
    "tags": []
   },
   "outputs": [
    {
     "name": "stdout",
     "output_type": "stream",
     "text": [
      "Number of NaN values in SK_ID_CURR : 0\n",
      "Number of NaN values in TARGET : 0\n",
      "Number of NaN values in NAME_CONTRACT_TYPE : 0\n",
      "Number of NaN values in CODE_GENDER : 0\n",
      "Number of NaN values in FLAG_OWN_CAR : 0\n",
      "Number of NaN values in FLAG_OWN_REALTY : 0\n",
      "Number of NaN values in CNT_CHILDREN : 0\n",
      "Number of NaN values in AMT_INCOME_TOTAL : 0\n",
      "Number of NaN values in AMT_CREDIT : 0\n",
      "Number of NaN values in AMT_ANNUITY : 12\n",
      "Number of NaN values in AMT_GOODS_PRICE : 278\n",
      "Number of NaN values in NAME_INCOME_TYPE : 0\n",
      "Number of NaN values in NAME_EDUCATION_TYPE : 0\n",
      "Number of NaN values in NAME_FAMILY_STATUS : 0\n",
      "Number of NaN values in NAME_HOUSING_TYPE : 0\n",
      "Number of NaN values in REGION_POPULATION_RELATIVE : 0\n",
      "Number of NaN values in DAYS_BIRTH : 0\n",
      "Number of NaN values in DAYS_EMPLOYED : 0\n",
      "Number of NaN values in DAYS_REGISTRATION : 0\n",
      "Number of NaN values in DAYS_ID_PUBLISH : 0\n",
      "Number of NaN values in FLAG_MOBIL : 0\n",
      "Number of NaN values in FLAG_EMP_PHONE : 0\n",
      "Number of NaN values in FLAG_WORK_PHONE : 0\n",
      "Number of NaN values in FLAG_CONT_MOBILE : 0\n",
      "Number of NaN values in FLAG_PHONE : 0\n",
      "Number of NaN values in FLAG_EMAIL : 0\n",
      "Number of NaN values in CNT_FAM_MEMBERS : 2\n",
      "Number of NaN values in REGION_RATING_CLIENT : 0\n",
      "Number of NaN values in REGION_RATING_CLIENT_W_CITY : 0\n",
      "Number of NaN values in WEEKDAY_APPR_PROCESS_START : 0\n",
      "Number of NaN values in HOUR_APPR_PROCESS_START : 0\n",
      "Number of NaN values in REG_REGION_NOT_LIVE_REGION : 0\n",
      "Number of NaN values in REG_REGION_NOT_WORK_REGION : 0\n",
      "Number of NaN values in LIVE_REGION_NOT_WORK_REGION : 0\n",
      "Number of NaN values in REG_CITY_NOT_LIVE_CITY : 0\n",
      "Number of NaN values in REG_CITY_NOT_WORK_CITY : 0\n",
      "Number of NaN values in LIVE_CITY_NOT_WORK_CITY : 0\n",
      "Number of NaN values in ORGANIZATION_TYPE : 0\n",
      "Number of NaN values in EXT_SOURCE_2 : 660\n",
      "Number of NaN values in DAYS_LAST_PHONE_CHANGE : 1\n",
      "Number of NaN values in FLAG_DOCUMENT_2 : 0\n",
      "Number of NaN values in FLAG_DOCUMENT_3 : 0\n",
      "Number of NaN values in FLAG_DOCUMENT_4 : 0\n",
      "Number of NaN values in FLAG_DOCUMENT_5 : 0\n",
      "Number of NaN values in FLAG_DOCUMENT_6 : 0\n",
      "Number of NaN values in FLAG_DOCUMENT_7 : 0\n",
      "Number of NaN values in FLAG_DOCUMENT_8 : 0\n",
      "Number of NaN values in FLAG_DOCUMENT_9 : 0\n",
      "Number of NaN values in FLAG_DOCUMENT_10 : 0\n",
      "Number of NaN values in FLAG_DOCUMENT_11 : 0\n",
      "Number of NaN values in FLAG_DOCUMENT_12 : 0\n",
      "Number of NaN values in FLAG_DOCUMENT_13 : 0\n",
      "Number of NaN values in FLAG_DOCUMENT_14 : 0\n",
      "Number of NaN values in FLAG_DOCUMENT_15 : 0\n",
      "Number of NaN values in FLAG_DOCUMENT_16 : 0\n",
      "Number of NaN values in FLAG_DOCUMENT_17 : 0\n",
      "Number of NaN values in FLAG_DOCUMENT_18 : 0\n",
      "Number of NaN values in FLAG_DOCUMENT_19 : 0\n",
      "Number of NaN values in FLAG_DOCUMENT_20 : 0\n",
      "Number of NaN values in FLAG_DOCUMENT_21 : 0\n"
     ]
    }
   ],
   "source": [
    "check_nan_columns(df_train)"
   ]
  },
  {
   "cell_type": "markdown",
   "id": "6e12fef3",
   "metadata": {
    "papermill": {
     "duration": 0.007435,
     "end_time": "2024-01-21T08:00:31.019683",
     "exception": false,
     "start_time": "2024-01-21T08:00:31.012248",
     "status": "completed"
    },
    "tags": []
   },
   "source": [
    "EXT_SOURCE_2 contains normalized score from external data source. Looking at the number of NaN values, we can conclude that the non-normalized dataset may also contain similar number of NaN  values. As we do not know what the external data source is, it makes us hard to work with this column. Therefore we should drop it.\n",
    "\n",
    "We do not need the ID of the client as they do not determine whether the client is able to make the repayment of loans. So lets drop that column as well.\n",
    "\n",
    "We will also drop columns 'ORGANIZATION_TYPE', 'NAME_EDUCATION_TYPE' , 'NAME_FAMILIY_STATUS', 'NAME_HOUSING_TYPE', 'NAME_INCOME_TYPE', 'CODE_GENDER' as it does not represent the ability of client to repay his/her loan. Income values would be more applicable."
   ]
  },
  {
   "cell_type": "code",
   "execution_count": 11,
   "id": "74b92225",
   "metadata": {
    "execution": {
     "iopub.execute_input": "2024-01-21T08:00:31.037878Z",
     "iopub.status.busy": "2024-01-21T08:00:31.036157Z",
     "iopub.status.idle": "2024-01-21T08:00:31.187406Z",
     "shell.execute_reply": "2024-01-21T08:00:31.186529Z"
    },
    "papermill": {
     "duration": 0.162196,
     "end_time": "2024-01-21T08:00:31.189441",
     "exception": false,
     "start_time": "2024-01-21T08:00:31.027245",
     "status": "completed"
    },
    "tags": []
   },
   "outputs": [
    {
     "data": {
      "text/html": [
       "<div>\n",
       "<style scoped>\n",
       "    .dataframe tbody tr th:only-of-type {\n",
       "        vertical-align: middle;\n",
       "    }\n",
       "\n",
       "    .dataframe tbody tr th {\n",
       "        vertical-align: top;\n",
       "    }\n",
       "\n",
       "    .dataframe thead th {\n",
       "        text-align: right;\n",
       "    }\n",
       "</style>\n",
       "<table border=\"1\" class=\"dataframe\">\n",
       "  <thead>\n",
       "    <tr style=\"text-align: right;\">\n",
       "      <th></th>\n",
       "      <th>TARGET</th>\n",
       "      <th>NAME_CONTRACT_TYPE</th>\n",
       "      <th>FLAG_OWN_CAR</th>\n",
       "      <th>FLAG_OWN_REALTY</th>\n",
       "      <th>CNT_CHILDREN</th>\n",
       "      <th>AMT_INCOME_TOTAL</th>\n",
       "      <th>AMT_CREDIT</th>\n",
       "      <th>AMT_ANNUITY</th>\n",
       "      <th>AMT_GOODS_PRICE</th>\n",
       "      <th>REGION_POPULATION_RELATIVE</th>\n",
       "      <th>...</th>\n",
       "      <th>REGION_RATING_CLIENT</th>\n",
       "      <th>REGION_RATING_CLIENT_W_CITY</th>\n",
       "      <th>HOUR_APPR_PROCESS_START</th>\n",
       "      <th>REG_REGION_NOT_LIVE_REGION</th>\n",
       "      <th>REG_REGION_NOT_WORK_REGION</th>\n",
       "      <th>LIVE_REGION_NOT_WORK_REGION</th>\n",
       "      <th>REG_CITY_NOT_LIVE_CITY</th>\n",
       "      <th>REG_CITY_NOT_WORK_CITY</th>\n",
       "      <th>LIVE_CITY_NOT_WORK_CITY</th>\n",
       "      <th>DAYS_LAST_PHONE_CHANGE</th>\n",
       "    </tr>\n",
       "  </thead>\n",
       "  <tbody>\n",
       "    <tr>\n",
       "      <th>0</th>\n",
       "      <td>1</td>\n",
       "      <td>Cash loans</td>\n",
       "      <td>N</td>\n",
       "      <td>Y</td>\n",
       "      <td>0</td>\n",
       "      <td>202500.0</td>\n",
       "      <td>406597.5</td>\n",
       "      <td>24700.5</td>\n",
       "      <td>351000.0</td>\n",
       "      <td>0.018801</td>\n",
       "      <td>...</td>\n",
       "      <td>2</td>\n",
       "      <td>2</td>\n",
       "      <td>10</td>\n",
       "      <td>0</td>\n",
       "      <td>0</td>\n",
       "      <td>0</td>\n",
       "      <td>0</td>\n",
       "      <td>0</td>\n",
       "      <td>0</td>\n",
       "      <td>-1134.0</td>\n",
       "    </tr>\n",
       "    <tr>\n",
       "      <th>1</th>\n",
       "      <td>0</td>\n",
       "      <td>Cash loans</td>\n",
       "      <td>N</td>\n",
       "      <td>N</td>\n",
       "      <td>0</td>\n",
       "      <td>270000.0</td>\n",
       "      <td>1293502.5</td>\n",
       "      <td>35698.5</td>\n",
       "      <td>1129500.0</td>\n",
       "      <td>0.003541</td>\n",
       "      <td>...</td>\n",
       "      <td>1</td>\n",
       "      <td>1</td>\n",
       "      <td>11</td>\n",
       "      <td>0</td>\n",
       "      <td>0</td>\n",
       "      <td>0</td>\n",
       "      <td>0</td>\n",
       "      <td>0</td>\n",
       "      <td>0</td>\n",
       "      <td>-828.0</td>\n",
       "    </tr>\n",
       "    <tr>\n",
       "      <th>2</th>\n",
       "      <td>0</td>\n",
       "      <td>Revolving loans</td>\n",
       "      <td>Y</td>\n",
       "      <td>Y</td>\n",
       "      <td>0</td>\n",
       "      <td>67500.0</td>\n",
       "      <td>135000.0</td>\n",
       "      <td>6750.0</td>\n",
       "      <td>135000.0</td>\n",
       "      <td>0.010032</td>\n",
       "      <td>...</td>\n",
       "      <td>2</td>\n",
       "      <td>2</td>\n",
       "      <td>9</td>\n",
       "      <td>0</td>\n",
       "      <td>0</td>\n",
       "      <td>0</td>\n",
       "      <td>0</td>\n",
       "      <td>0</td>\n",
       "      <td>0</td>\n",
       "      <td>-815.0</td>\n",
       "    </tr>\n",
       "    <tr>\n",
       "      <th>3</th>\n",
       "      <td>0</td>\n",
       "      <td>Cash loans</td>\n",
       "      <td>N</td>\n",
       "      <td>Y</td>\n",
       "      <td>0</td>\n",
       "      <td>135000.0</td>\n",
       "      <td>312682.5</td>\n",
       "      <td>29686.5</td>\n",
       "      <td>297000.0</td>\n",
       "      <td>0.008019</td>\n",
       "      <td>...</td>\n",
       "      <td>2</td>\n",
       "      <td>2</td>\n",
       "      <td>17</td>\n",
       "      <td>0</td>\n",
       "      <td>0</td>\n",
       "      <td>0</td>\n",
       "      <td>0</td>\n",
       "      <td>0</td>\n",
       "      <td>0</td>\n",
       "      <td>-617.0</td>\n",
       "    </tr>\n",
       "    <tr>\n",
       "      <th>4</th>\n",
       "      <td>0</td>\n",
       "      <td>Cash loans</td>\n",
       "      <td>N</td>\n",
       "      <td>Y</td>\n",
       "      <td>0</td>\n",
       "      <td>121500.0</td>\n",
       "      <td>513000.0</td>\n",
       "      <td>21865.5</td>\n",
       "      <td>513000.0</td>\n",
       "      <td>0.028663</td>\n",
       "      <td>...</td>\n",
       "      <td>2</td>\n",
       "      <td>2</td>\n",
       "      <td>11</td>\n",
       "      <td>0</td>\n",
       "      <td>0</td>\n",
       "      <td>0</td>\n",
       "      <td>0</td>\n",
       "      <td>1</td>\n",
       "      <td>1</td>\n",
       "      <td>-1106.0</td>\n",
       "    </tr>\n",
       "    <tr>\n",
       "      <th>...</th>\n",
       "      <td>...</td>\n",
       "      <td>...</td>\n",
       "      <td>...</td>\n",
       "      <td>...</td>\n",
       "      <td>...</td>\n",
       "      <td>...</td>\n",
       "      <td>...</td>\n",
       "      <td>...</td>\n",
       "      <td>...</td>\n",
       "      <td>...</td>\n",
       "      <td>...</td>\n",
       "      <td>...</td>\n",
       "      <td>...</td>\n",
       "      <td>...</td>\n",
       "      <td>...</td>\n",
       "      <td>...</td>\n",
       "      <td>...</td>\n",
       "      <td>...</td>\n",
       "      <td>...</td>\n",
       "      <td>...</td>\n",
       "      <td>...</td>\n",
       "    </tr>\n",
       "    <tr>\n",
       "      <th>307506</th>\n",
       "      <td>0</td>\n",
       "      <td>Cash loans</td>\n",
       "      <td>N</td>\n",
       "      <td>N</td>\n",
       "      <td>0</td>\n",
       "      <td>157500.0</td>\n",
       "      <td>254700.0</td>\n",
       "      <td>27558.0</td>\n",
       "      <td>225000.0</td>\n",
       "      <td>0.032561</td>\n",
       "      <td>...</td>\n",
       "      <td>1</td>\n",
       "      <td>1</td>\n",
       "      <td>15</td>\n",
       "      <td>0</td>\n",
       "      <td>0</td>\n",
       "      <td>0</td>\n",
       "      <td>0</td>\n",
       "      <td>0</td>\n",
       "      <td>0</td>\n",
       "      <td>-273.0</td>\n",
       "    </tr>\n",
       "    <tr>\n",
       "      <th>307507</th>\n",
       "      <td>0</td>\n",
       "      <td>Cash loans</td>\n",
       "      <td>N</td>\n",
       "      <td>Y</td>\n",
       "      <td>0</td>\n",
       "      <td>72000.0</td>\n",
       "      <td>269550.0</td>\n",
       "      <td>12001.5</td>\n",
       "      <td>225000.0</td>\n",
       "      <td>0.025164</td>\n",
       "      <td>...</td>\n",
       "      <td>2</td>\n",
       "      <td>2</td>\n",
       "      <td>8</td>\n",
       "      <td>0</td>\n",
       "      <td>0</td>\n",
       "      <td>0</td>\n",
       "      <td>0</td>\n",
       "      <td>0</td>\n",
       "      <td>0</td>\n",
       "      <td>0.0</td>\n",
       "    </tr>\n",
       "    <tr>\n",
       "      <th>307508</th>\n",
       "      <td>0</td>\n",
       "      <td>Cash loans</td>\n",
       "      <td>N</td>\n",
       "      <td>Y</td>\n",
       "      <td>0</td>\n",
       "      <td>153000.0</td>\n",
       "      <td>677664.0</td>\n",
       "      <td>29979.0</td>\n",
       "      <td>585000.0</td>\n",
       "      <td>0.005002</td>\n",
       "      <td>...</td>\n",
       "      <td>3</td>\n",
       "      <td>3</td>\n",
       "      <td>9</td>\n",
       "      <td>0</td>\n",
       "      <td>0</td>\n",
       "      <td>0</td>\n",
       "      <td>0</td>\n",
       "      <td>1</td>\n",
       "      <td>1</td>\n",
       "      <td>-1909.0</td>\n",
       "    </tr>\n",
       "    <tr>\n",
       "      <th>307509</th>\n",
       "      <td>1</td>\n",
       "      <td>Cash loans</td>\n",
       "      <td>N</td>\n",
       "      <td>Y</td>\n",
       "      <td>0</td>\n",
       "      <td>171000.0</td>\n",
       "      <td>370107.0</td>\n",
       "      <td>20205.0</td>\n",
       "      <td>319500.0</td>\n",
       "      <td>0.005313</td>\n",
       "      <td>...</td>\n",
       "      <td>2</td>\n",
       "      <td>2</td>\n",
       "      <td>9</td>\n",
       "      <td>0</td>\n",
       "      <td>0</td>\n",
       "      <td>0</td>\n",
       "      <td>1</td>\n",
       "      <td>1</td>\n",
       "      <td>0</td>\n",
       "      <td>-322.0</td>\n",
       "    </tr>\n",
       "    <tr>\n",
       "      <th>307510</th>\n",
       "      <td>0</td>\n",
       "      <td>Cash loans</td>\n",
       "      <td>N</td>\n",
       "      <td>N</td>\n",
       "      <td>0</td>\n",
       "      <td>157500.0</td>\n",
       "      <td>675000.0</td>\n",
       "      <td>49117.5</td>\n",
       "      <td>675000.0</td>\n",
       "      <td>0.046220</td>\n",
       "      <td>...</td>\n",
       "      <td>1</td>\n",
       "      <td>1</td>\n",
       "      <td>20</td>\n",
       "      <td>0</td>\n",
       "      <td>0</td>\n",
       "      <td>0</td>\n",
       "      <td>0</td>\n",
       "      <td>1</td>\n",
       "      <td>1</td>\n",
       "      <td>-787.0</td>\n",
       "    </tr>\n",
       "  </tbody>\n",
       "</table>\n",
       "<p>307511 rows × 31 columns</p>\n",
       "</div>"
      ],
      "text/plain": [
       "        TARGET NAME_CONTRACT_TYPE FLAG_OWN_CAR FLAG_OWN_REALTY  CNT_CHILDREN  \\\n",
       "0            1         Cash loans            N               Y             0   \n",
       "1            0         Cash loans            N               N             0   \n",
       "2            0    Revolving loans            Y               Y             0   \n",
       "3            0         Cash loans            N               Y             0   \n",
       "4            0         Cash loans            N               Y             0   \n",
       "...        ...                ...          ...             ...           ...   \n",
       "307506       0         Cash loans            N               N             0   \n",
       "307507       0         Cash loans            N               Y             0   \n",
       "307508       0         Cash loans            N               Y             0   \n",
       "307509       1         Cash loans            N               Y             0   \n",
       "307510       0         Cash loans            N               N             0   \n",
       "\n",
       "        AMT_INCOME_TOTAL  AMT_CREDIT  AMT_ANNUITY  AMT_GOODS_PRICE  \\\n",
       "0               202500.0    406597.5      24700.5         351000.0   \n",
       "1               270000.0   1293502.5      35698.5        1129500.0   \n",
       "2                67500.0    135000.0       6750.0         135000.0   \n",
       "3               135000.0    312682.5      29686.5         297000.0   \n",
       "4               121500.0    513000.0      21865.5         513000.0   \n",
       "...                  ...         ...          ...              ...   \n",
       "307506          157500.0    254700.0      27558.0         225000.0   \n",
       "307507           72000.0    269550.0      12001.5         225000.0   \n",
       "307508          153000.0    677664.0      29979.0         585000.0   \n",
       "307509          171000.0    370107.0      20205.0         319500.0   \n",
       "307510          157500.0    675000.0      49117.5         675000.0   \n",
       "\n",
       "        REGION_POPULATION_RELATIVE  ...  REGION_RATING_CLIENT  \\\n",
       "0                         0.018801  ...                     2   \n",
       "1                         0.003541  ...                     1   \n",
       "2                         0.010032  ...                     2   \n",
       "3                         0.008019  ...                     2   \n",
       "4                         0.028663  ...                     2   \n",
       "...                            ...  ...                   ...   \n",
       "307506                    0.032561  ...                     1   \n",
       "307507                    0.025164  ...                     2   \n",
       "307508                    0.005002  ...                     3   \n",
       "307509                    0.005313  ...                     2   \n",
       "307510                    0.046220  ...                     1   \n",
       "\n",
       "        REGION_RATING_CLIENT_W_CITY  HOUR_APPR_PROCESS_START  \\\n",
       "0                                 2                       10   \n",
       "1                                 1                       11   \n",
       "2                                 2                        9   \n",
       "3                                 2                       17   \n",
       "4                                 2                       11   \n",
       "...                             ...                      ...   \n",
       "307506                            1                       15   \n",
       "307507                            2                        8   \n",
       "307508                            3                        9   \n",
       "307509                            2                        9   \n",
       "307510                            1                       20   \n",
       "\n",
       "        REG_REGION_NOT_LIVE_REGION  REG_REGION_NOT_WORK_REGION  \\\n",
       "0                                0                           0   \n",
       "1                                0                           0   \n",
       "2                                0                           0   \n",
       "3                                0                           0   \n",
       "4                                0                           0   \n",
       "...                            ...                         ...   \n",
       "307506                           0                           0   \n",
       "307507                           0                           0   \n",
       "307508                           0                           0   \n",
       "307509                           0                           0   \n",
       "307510                           0                           0   \n",
       "\n",
       "        LIVE_REGION_NOT_WORK_REGION  REG_CITY_NOT_LIVE_CITY  \\\n",
       "0                                 0                       0   \n",
       "1                                 0                       0   \n",
       "2                                 0                       0   \n",
       "3                                 0                       0   \n",
       "4                                 0                       0   \n",
       "...                             ...                     ...   \n",
       "307506                            0                       0   \n",
       "307507                            0                       0   \n",
       "307508                            0                       0   \n",
       "307509                            0                       1   \n",
       "307510                            0                       0   \n",
       "\n",
       "        REG_CITY_NOT_WORK_CITY  LIVE_CITY_NOT_WORK_CITY  \\\n",
       "0                            0                        0   \n",
       "1                            0                        0   \n",
       "2                            0                        0   \n",
       "3                            0                        0   \n",
       "4                            1                        1   \n",
       "...                        ...                      ...   \n",
       "307506                       0                        0   \n",
       "307507                       0                        0   \n",
       "307508                       1                        1   \n",
       "307509                       1                        0   \n",
       "307510                       1                        1   \n",
       "\n",
       "        DAYS_LAST_PHONE_CHANGE  \n",
       "0                      -1134.0  \n",
       "1                       -828.0  \n",
       "2                       -815.0  \n",
       "3                       -617.0  \n",
       "4                      -1106.0  \n",
       "...                        ...  \n",
       "307506                  -273.0  \n",
       "307507                     0.0  \n",
       "307508                 -1909.0  \n",
       "307509                  -322.0  \n",
       "307510                  -787.0  \n",
       "\n",
       "[307511 rows x 31 columns]"
      ]
     },
     "execution_count": 11,
     "metadata": {},
     "output_type": "execute_result"
    }
   ],
   "source": [
    "df_train.drop([\"EXT_SOURCE_2\", \"SK_ID_CURR\", 'WEEKDAY_APPR_PROCESS_START', 'ORGANIZATION_TYPE', 'NAME_EDUCATION_TYPE', 'NAME_FAMILY_STATUS', 'NAME_HOUSING_TYPE', 'NAME_INCOME_TYPE', 'CODE_GENDER'], axis = 1, inplace = True)\n",
    "df_train.drop(list(df_train.filter(regex='FLAG_DOCUMENT')), axis=1, inplace=True)\n",
    "df_train"
   ]
  },
  {
   "cell_type": "markdown",
   "id": "4f57635c",
   "metadata": {
    "papermill": {
     "duration": 0.007469,
     "end_time": "2024-01-21T08:00:31.204741",
     "exception": false,
     "start_time": "2024-01-21T08:00:31.197272",
     "status": "completed"
    },
    "tags": []
   },
   "source": [
    "Since we have columns with NaN values, let's try to address them.\n",
    "\n",
    "For AMT_GOODS_PRICE, it represents price of goods for which the loan is given. With a higher AMT_GOODS_PRICE, it means the consumer has taken a larger loan before to make bigger purchases.  If the value is NaN, it is most likely that the consumer has not made such a loan before, hence we will fill up that column with 0s.\n",
    "\n",
    "For AMT_ANNUITY, it represents a loan with monthly repayment. If the value is NaN, it is most likely the consumer has no loan with monthly repayment. Therefore, we will fill it up that column with 0s as well.\n",
    "\n",
    "For CNT_FAM_MEMBERS, it represents the number of family members the client has. Since the client did not declare, we shall assume that he has no family members and we shal also fill it up with 0.\n",
    "\n",
    "For DAYS_LAST_PHONE_CHANGE, it is rather impossible for someone to not change their phone, especially since phones dont last a lifetime. We shall fill up that column with the average number of days since the last phone change of all the clients."
   ]
  },
  {
   "cell_type": "code",
   "execution_count": 12,
   "id": "5a05f565",
   "metadata": {
    "execution": {
     "iopub.execute_input": "2024-01-21T08:00:31.222157Z",
     "iopub.status.busy": "2024-01-21T08:00:31.221749Z",
     "iopub.status.idle": "2024-01-21T08:00:31.234298Z",
     "shell.execute_reply": "2024-01-21T08:00:31.233428Z"
    },
    "papermill": {
     "duration": 0.023711,
     "end_time": "2024-01-21T08:00:31.236321",
     "exception": false,
     "start_time": "2024-01-21T08:00:31.212610",
     "status": "completed"
    },
    "tags": []
   },
   "outputs": [],
   "source": [
    "df_train[['AMT_GOODS_PRICE', 'AMT_ANNUITY', 'CNT_FAM_MEMBERS']] = df_train[['AMT_GOODS_PRICE', 'AMT_ANNUITY', 'CNT_FAM_MEMBERS']].fillna(value = 0)\n",
    "days_last_phone_change_mean = df_train['DAYS_LAST_PHONE_CHANGE'].mean(skipna= True)\n",
    "df_train['DAYS_LAST_PHONE_CHANGE'] = df_train['DAYS_LAST_PHONE_CHANGE'].fillna(value = days_last_phone_change_mean)"
   ]
  },
  {
   "cell_type": "code",
   "execution_count": 13,
   "id": "389c3fda",
   "metadata": {
    "execution": {
     "iopub.execute_input": "2024-01-21T08:00:31.253683Z",
     "iopub.status.busy": "2024-01-21T08:00:31.253281Z",
     "iopub.status.idle": "2024-01-21T08:00:31.297716Z",
     "shell.execute_reply": "2024-01-21T08:00:31.296140Z"
    },
    "papermill": {
     "duration": 0.056173,
     "end_time": "2024-01-21T08:00:31.300440",
     "exception": false,
     "start_time": "2024-01-21T08:00:31.244267",
     "status": "completed"
    },
    "tags": []
   },
   "outputs": [
    {
     "name": "stdout",
     "output_type": "stream",
     "text": [
      "Number of NaN values in TARGET : 0\n",
      "Number of NaN values in NAME_CONTRACT_TYPE : 0\n",
      "Number of NaN values in FLAG_OWN_CAR : 0\n",
      "Number of NaN values in FLAG_OWN_REALTY : 0\n",
      "Number of NaN values in CNT_CHILDREN : 0\n",
      "Number of NaN values in AMT_INCOME_TOTAL : 0\n",
      "Number of NaN values in AMT_CREDIT : 0\n",
      "Number of NaN values in AMT_ANNUITY : 0\n",
      "Number of NaN values in AMT_GOODS_PRICE : 0\n",
      "Number of NaN values in REGION_POPULATION_RELATIVE : 0\n",
      "Number of NaN values in DAYS_BIRTH : 0\n",
      "Number of NaN values in DAYS_EMPLOYED : 0\n",
      "Number of NaN values in DAYS_REGISTRATION : 0\n",
      "Number of NaN values in DAYS_ID_PUBLISH : 0\n",
      "Number of NaN values in FLAG_MOBIL : 0\n",
      "Number of NaN values in FLAG_EMP_PHONE : 0\n",
      "Number of NaN values in FLAG_WORK_PHONE : 0\n",
      "Number of NaN values in FLAG_CONT_MOBILE : 0\n",
      "Number of NaN values in FLAG_PHONE : 0\n",
      "Number of NaN values in FLAG_EMAIL : 0\n",
      "Number of NaN values in CNT_FAM_MEMBERS : 0\n",
      "Number of NaN values in REGION_RATING_CLIENT : 0\n",
      "Number of NaN values in REGION_RATING_CLIENT_W_CITY : 0\n",
      "Number of NaN values in HOUR_APPR_PROCESS_START : 0\n",
      "Number of NaN values in REG_REGION_NOT_LIVE_REGION : 0\n",
      "Number of NaN values in REG_REGION_NOT_WORK_REGION : 0\n",
      "Number of NaN values in LIVE_REGION_NOT_WORK_REGION : 0\n",
      "Number of NaN values in REG_CITY_NOT_LIVE_CITY : 0\n",
      "Number of NaN values in REG_CITY_NOT_WORK_CITY : 0\n",
      "Number of NaN values in LIVE_CITY_NOT_WORK_CITY : 0\n",
      "Number of NaN values in DAYS_LAST_PHONE_CHANGE : 0\n"
     ]
    }
   ],
   "source": [
    "check_nan_columns(df_train)"
   ]
  },
  {
   "cell_type": "markdown",
   "id": "2d2a7994",
   "metadata": {
    "papermill": {
     "duration": 0.007803,
     "end_time": "2024-01-21T08:00:31.316562",
     "exception": false,
     "start_time": "2024-01-21T08:00:31.308759",
     "status": "completed"
    },
    "tags": []
   },
   "source": [
    "Great! Now we have addressed all the missing values in our dataframe. Before we create our model for deep learning, let us take a look at some of the features we can improve on, as well as the range of values in each column to see if we need to do any normalization. Normalizing our data helps our model to converge faster and provide numerical stability."
   ]
  },
  {
   "cell_type": "code",
   "execution_count": 14,
   "id": "a0e06056",
   "metadata": {
    "execution": {
     "iopub.execute_input": "2024-01-21T08:00:31.334642Z",
     "iopub.status.busy": "2024-01-21T08:00:31.334231Z",
     "iopub.status.idle": "2024-01-21T08:00:31.362106Z",
     "shell.execute_reply": "2024-01-21T08:00:31.360940Z"
    },
    "papermill": {
     "duration": 0.039678,
     "end_time": "2024-01-21T08:00:31.364660",
     "exception": false,
     "start_time": "2024-01-21T08:00:31.324982",
     "status": "completed"
    },
    "tags": []
   },
   "outputs": [],
   "source": [
    "# We look at credit of the client with respect to his/her income.\n",
    "df_train['LOAN_INCOME_RATIO'] = df_train['AMT_CREDIT'] /  df_train['AMT_INCOME_TOTAL']\n",
    "\n",
    "# It doesnt make much sense to look at the absolute value of loan, so we look at the amount of loan relative to the clients income to get a bigger picture.\n",
    "df_train['ANNUITY_INCOME_RATIO'] = df_train['AMT_ANNUITY'] / df_train['AMT_INCOME_TOTAL']\n",
    "\n",
    "df_train.drop(['AMT_CREDIT', 'AMT_ANNUITY', 'AMT_INCOME_TOTAL'], inplace=True, axis =1)"
   ]
  },
  {
   "cell_type": "code",
   "execution_count": 15,
   "id": "7d452d66",
   "metadata": {
    "execution": {
     "iopub.execute_input": "2024-01-21T08:00:31.382530Z",
     "iopub.status.busy": "2024-01-21T08:00:31.382130Z",
     "iopub.status.idle": "2024-01-21T08:00:33.128577Z",
     "shell.execute_reply": "2024-01-21T08:00:33.126949Z"
    },
    "papermill": {
     "duration": 1.758001,
     "end_time": "2024-01-21T08:00:33.130798",
     "exception": false,
     "start_time": "2024-01-21T08:00:31.372797",
     "status": "completed"
    },
    "tags": []
   },
   "outputs": [
    {
     "name": "stdout",
     "output_type": "stream",
     "text": [
      "TARGET: Max value: 1, Min Value 0\n",
      "NAME_CONTRACT_TYPE: Max value: Revolving loans, Min Value Cash loans\n",
      "FLAG_OWN_CAR: Max value: Y, Min Value N\n",
      "FLAG_OWN_REALTY: Max value: Y, Min Value N\n",
      "CNT_CHILDREN: Max value: 19, Min Value 0\n",
      "AMT_GOODS_PRICE: Max value: 4050000.0, Min Value 0.0\n",
      "REGION_POPULATION_RELATIVE: Max value: 0.072508, Min Value 0.00029\n",
      "DAYS_BIRTH: Max value: -7489, Min Value -25229\n",
      "DAYS_EMPLOYED: Max value: 365243, Min Value -17912\n",
      "DAYS_REGISTRATION: Max value: 0.0, Min Value -24672.0\n",
      "DAYS_ID_PUBLISH: Max value: 0, Min Value -7197\n",
      "FLAG_MOBIL: Max value: 1, Min Value 0\n",
      "FLAG_EMP_PHONE: Max value: 1, Min Value 0\n",
      "FLAG_WORK_PHONE: Max value: 1, Min Value 0\n",
      "FLAG_CONT_MOBILE: Max value: 1, Min Value 0\n",
      "FLAG_PHONE: Max value: 1, Min Value 0\n",
      "FLAG_EMAIL: Max value: 1, Min Value 0\n",
      "CNT_FAM_MEMBERS: Max value: 20.0, Min Value 0.0\n",
      "REGION_RATING_CLIENT: Max value: 3, Min Value 1\n",
      "REGION_RATING_CLIENT_W_CITY: Max value: 3, Min Value 1\n",
      "HOUR_APPR_PROCESS_START: Max value: 23, Min Value 0\n",
      "REG_REGION_NOT_LIVE_REGION: Max value: 1, Min Value 0\n",
      "REG_REGION_NOT_WORK_REGION: Max value: 1, Min Value 0\n",
      "LIVE_REGION_NOT_WORK_REGION: Max value: 1, Min Value 0\n",
      "REG_CITY_NOT_LIVE_CITY: Max value: 1, Min Value 0\n",
      "REG_CITY_NOT_WORK_CITY: Max value: 1, Min Value 0\n",
      "LIVE_CITY_NOT_WORK_CITY: Max value: 1, Min Value 0\n",
      "DAYS_LAST_PHONE_CHANGE: Max value: 0.0, Min Value -4292.0\n",
      "LOAN_INCOME_RATIO: Max value: 84.73684210526316, Min Value 0.004807615384615385\n",
      "ANNUITY_INCOME_RATIO: Max value: 1.8759649122807018, Min Value 0.0\n"
     ]
    }
   ],
   "source": [
    "for col in df_train.columns:\n",
    "    print(f\"{col}: Max value: {max(df_train[col])}, Min Value {min(df_train[col])}\")"
   ]
  },
  {
   "cell_type": "code",
   "execution_count": 16,
   "id": "23ae6972",
   "metadata": {
    "execution": {
     "iopub.execute_input": "2024-01-21T08:00:33.150888Z",
     "iopub.status.busy": "2024-01-21T08:00:33.150536Z",
     "iopub.status.idle": "2024-01-21T08:00:34.916016Z",
     "shell.execute_reply": "2024-01-21T08:00:34.914637Z"
    },
    "papermill": {
     "duration": 1.778424,
     "end_time": "2024-01-21T08:00:34.918503",
     "exception": false,
     "start_time": "2024-01-21T08:00:33.140079",
     "status": "completed"
    },
    "tags": []
   },
   "outputs": [
    {
     "name": "stdout",
     "output_type": "stream",
     "text": [
      "TARGET: Max value: 1, Min Value 0\n",
      "NAME_CONTRACT_TYPE: Max value: Revolving loans, Min Value Cash loans\n",
      "FLAG_OWN_CAR: Max value: Y, Min Value N\n",
      "FLAG_OWN_REALTY: Max value: Y, Min Value N\n",
      "CNT_CHILDREN: Max value: 19, Min Value 0\n",
      "AMT_GOODS_PRICE: Max value: 9.501541715786653, Min Value -1.4552498947876376\n",
      "REGION_POPULATION_RELATIVE: Max value: 0.072508, Min Value 0.00029\n",
      "DAYS_BIRTH: Max value: 1.9587574093532087, Min Value -2.106331090371306\n",
      "DAYS_EMPLOYED: Max value: 2.1336140055980115, Min Value -0.5784930276291609\n",
      "DAYS_REGISTRATION: Max value: 1.4153509007282798, Min Value -5.587997419990533\n",
      "DAYS_ID_PUBLISH: Max value: 1.9836374454922983, Min Value -2.7843230713914195\n",
      "FLAG_MOBIL: Max value: 1, Min Value 0\n",
      "FLAG_EMP_PHONE: Max value: 1, Min Value 0\n",
      "FLAG_WORK_PHONE: Max value: 1, Min Value 0\n",
      "FLAG_CONT_MOBILE: Max value: 1, Min Value 0\n",
      "FLAG_PHONE: Max value: 1, Min Value 0\n",
      "FLAG_EMAIL: Max value: 1, Min Value 0\n",
      "CNT_FAM_MEMBERS: Max value: 20.0, Min Value 0.0\n",
      "REGION_RATING_CLIENT: Max value: 3, Min Value 1\n",
      "REGION_RATING_CLIENT_W_CITY: Max value: 3, Min Value 1\n",
      "HOUR_APPR_PROCESS_START: Max value: 23, Min Value 0\n",
      "REG_REGION_NOT_LIVE_REGION: Max value: 1, Min Value 0\n",
      "REG_REGION_NOT_WORK_REGION: Max value: 1, Min Value 0\n",
      "LIVE_REGION_NOT_WORK_REGION: Max value: 1, Min Value 0\n",
      "REG_CITY_NOT_LIVE_CITY: Max value: 1, Min Value 0\n",
      "REG_CITY_NOT_WORK_CITY: Max value: 1, Min Value 0\n",
      "LIVE_CITY_NOT_WORK_CITY: Max value: 1, Min Value 0\n",
      "DAYS_LAST_PHONE_CHANGE: Max value: 1.1645506414131568, Min Value -4.026502723331527\n",
      "LOAN_INCOME_RATIO: Max value: 84.73684210526316, Min Value 0.004807615384615385\n",
      "ANNUITY_INCOME_RATIO: Max value: 1.8759649122807018, Min Value 0.0\n"
     ]
    }
   ],
   "source": [
    "df_train_z_scaled = df_train.copy()\n",
    "columns = ['AMT_GOODS_PRICE', 'DAYS_BIRTH', 'DAYS_EMPLOYED', 'DAYS_REGISTRATION', 'DAYS_ID_PUBLISH', 'DAYS_LAST_PHONE_CHANGE']\n",
    "for col in columns:\n",
    "    df_train_z_scaled[col] = (df_train_z_scaled[col] - df_train_z_scaled[col].mean()) / df_train_z_scaled[col].std()\n",
    "df_train[columns] = df_train_z_scaled[columns]\n",
    "\n",
    "for col in df_train.columns:\n",
    "    print(f\"{col}: Max value: {max(df_train[col])}, Min Value {min(df_train[col])}\")"
   ]
  },
  {
   "cell_type": "code",
   "execution_count": 17,
   "id": "8544e2a8",
   "metadata": {
    "execution": {
     "iopub.execute_input": "2024-01-21T08:00:34.939870Z",
     "iopub.status.busy": "2024-01-21T08:00:34.939510Z",
     "iopub.status.idle": "2024-01-21T08:00:34.945349Z",
     "shell.execute_reply": "2024-01-21T08:00:34.944000Z"
    },
    "papermill": {
     "duration": 0.019199,
     "end_time": "2024-01-21T08:00:34.947788",
     "exception": false,
     "start_time": "2024-01-21T08:00:34.928589",
     "status": "completed"
    },
    "tags": []
   },
   "outputs": [
    {
     "name": "stdout",
     "output_type": "stream",
     "text": [
      "TARGET: <class 'numpy.int64'>\n",
      "NAME_CONTRACT_TYPE: <class 'str'>\n",
      "FLAG_OWN_CAR: <class 'str'>\n",
      "FLAG_OWN_REALTY: <class 'str'>\n",
      "CNT_CHILDREN: <class 'numpy.int64'>\n",
      "AMT_GOODS_PRICE: <class 'numpy.float64'>\n",
      "REGION_POPULATION_RELATIVE: <class 'numpy.float64'>\n",
      "DAYS_BIRTH: <class 'numpy.float64'>\n",
      "DAYS_EMPLOYED: <class 'numpy.float64'>\n",
      "DAYS_REGISTRATION: <class 'numpy.float64'>\n",
      "DAYS_ID_PUBLISH: <class 'numpy.float64'>\n",
      "FLAG_MOBIL: <class 'numpy.int64'>\n",
      "FLAG_EMP_PHONE: <class 'numpy.int64'>\n",
      "FLAG_WORK_PHONE: <class 'numpy.int64'>\n",
      "FLAG_CONT_MOBILE: <class 'numpy.int64'>\n",
      "FLAG_PHONE: <class 'numpy.int64'>\n",
      "FLAG_EMAIL: <class 'numpy.int64'>\n",
      "CNT_FAM_MEMBERS: <class 'numpy.float64'>\n",
      "REGION_RATING_CLIENT: <class 'numpy.int64'>\n",
      "REGION_RATING_CLIENT_W_CITY: <class 'numpy.int64'>\n",
      "HOUR_APPR_PROCESS_START: <class 'numpy.int64'>\n",
      "REG_REGION_NOT_LIVE_REGION: <class 'numpy.int64'>\n",
      "REG_REGION_NOT_WORK_REGION: <class 'numpy.int64'>\n",
      "LIVE_REGION_NOT_WORK_REGION: <class 'numpy.int64'>\n",
      "REG_CITY_NOT_LIVE_CITY: <class 'numpy.int64'>\n",
      "REG_CITY_NOT_WORK_CITY: <class 'numpy.int64'>\n",
      "LIVE_CITY_NOT_WORK_CITY: <class 'numpy.int64'>\n",
      "DAYS_LAST_PHONE_CHANGE: <class 'numpy.float64'>\n",
      "LOAN_INCOME_RATIO: <class 'numpy.float64'>\n",
      "ANNUITY_INCOME_RATIO: <class 'numpy.float64'>\n"
     ]
    }
   ],
   "source": [
    "for col in df_train.columns:\n",
    "    print(f\"{col}: {type(df_train[col][0])}\")"
   ]
  },
  {
   "cell_type": "markdown",
   "id": "7a1eb23f",
   "metadata": {
    "papermill": {
     "duration": 0.009565,
     "end_time": "2024-01-21T08:00:34.967337",
     "exception": false,
     "start_time": "2024-01-21T08:00:34.957772",
     "status": "completed"
    },
    "tags": []
   },
   "source": [
    "Since neural network only accepts numerical values as input. We have to convert the columns that are strings to integers.\n",
    "\n",
    "For NAME_CONTRACT_TYPE and CODE_GENDER, FLAG_OWN_CAR, FLAG_OWN_REALTY, we shall do one hot encoding."
   ]
  },
  {
   "cell_type": "code",
   "execution_count": 18,
   "id": "492afce9",
   "metadata": {
    "execution": {
     "iopub.execute_input": "2024-01-21T08:00:34.988912Z",
     "iopub.status.busy": "2024-01-21T08:00:34.988035Z",
     "iopub.status.idle": "2024-01-21T08:00:35.304332Z",
     "shell.execute_reply": "2024-01-21T08:00:35.302669Z"
    },
    "papermill": {
     "duration": 0.329828,
     "end_time": "2024-01-21T08:00:35.306940",
     "exception": false,
     "start_time": "2024-01-21T08:00:34.977112",
     "status": "completed"
    },
    "tags": []
   },
   "outputs": [
    {
     "name": "stdout",
     "output_type": "stream",
     "text": [
      "TARGET: <class 'numpy.int64'>\n",
      "CNT_CHILDREN: <class 'numpy.int64'>\n",
      "AMT_GOODS_PRICE: <class 'numpy.float64'>\n",
      "REGION_POPULATION_RELATIVE: <class 'numpy.float64'>\n",
      "DAYS_BIRTH: <class 'numpy.float64'>\n",
      "DAYS_EMPLOYED: <class 'numpy.float64'>\n",
      "DAYS_REGISTRATION: <class 'numpy.float64'>\n",
      "DAYS_ID_PUBLISH: <class 'numpy.float64'>\n",
      "FLAG_MOBIL: <class 'numpy.int64'>\n",
      "FLAG_EMP_PHONE: <class 'numpy.int64'>\n",
      "FLAG_WORK_PHONE: <class 'numpy.int64'>\n",
      "FLAG_CONT_MOBILE: <class 'numpy.int64'>\n",
      "FLAG_PHONE: <class 'numpy.int64'>\n",
      "FLAG_EMAIL: <class 'numpy.int64'>\n",
      "CNT_FAM_MEMBERS: <class 'numpy.float64'>\n",
      "REGION_RATING_CLIENT: <class 'numpy.int64'>\n",
      "REGION_RATING_CLIENT_W_CITY: <class 'numpy.int64'>\n",
      "HOUR_APPR_PROCESS_START: <class 'numpy.int64'>\n",
      "REG_REGION_NOT_LIVE_REGION: <class 'numpy.int64'>\n",
      "REG_REGION_NOT_WORK_REGION: <class 'numpy.int64'>\n",
      "LIVE_REGION_NOT_WORK_REGION: <class 'numpy.int64'>\n",
      "REG_CITY_NOT_LIVE_CITY: <class 'numpy.int64'>\n",
      "REG_CITY_NOT_WORK_CITY: <class 'numpy.int64'>\n",
      "LIVE_CITY_NOT_WORK_CITY: <class 'numpy.int64'>\n",
      "DAYS_LAST_PHONE_CHANGE: <class 'numpy.float64'>\n",
      "LOAN_INCOME_RATIO: <class 'numpy.float64'>\n",
      "ANNUITY_INCOME_RATIO: <class 'numpy.float64'>\n",
      "NAME_CONTRACT_TYPE_Cash loans: <class 'numpy.float64'>\n",
      "NAME_CONTRACT_TYPE_Revolving loans: <class 'numpy.float64'>\n",
      "FLAG_OWN_CAR_N: <class 'numpy.float64'>\n",
      "FLAG_OWN_CAR_Y: <class 'numpy.float64'>\n",
      "FLAG_OWN_REALTY_N: <class 'numpy.float64'>\n",
      "FLAG_OWN_REALTY_Y: <class 'numpy.float64'>\n"
     ]
    }
   ],
   "source": [
    "def one_hot_encoder(col, df, col_name):\n",
    "    encoder = OneHotEncoder()\n",
    "    col = col.values.reshape(-1,1)\n",
    "    col = encoder.fit_transform(col).toarray()\n",
    "    temp_df = pd.DataFrame(col, columns = encoder.get_feature_names_out([col_name]))\n",
    "    df = pd.concat([df, temp_df], axis = 1)\n",
    "    return df\n",
    "\n",
    "columns_to_encode = ['NAME_CONTRACT_TYPE','FLAG_OWN_CAR', 'FLAG_OWN_REALTY']\n",
    "for col in columns_to_encode:\n",
    "    df_train = one_hot_encoder(df_train[col], df_train, col)\n",
    "    df_train = df_train.drop([col], axis = 1)\n",
    "    \n",
    "for col in df_train.columns:\n",
    "    print(f\"{col}: {type(df_train[col][0])}\")"
   ]
  },
  {
   "cell_type": "markdown",
   "id": "59565f8a",
   "metadata": {
    "papermill": {
     "duration": 0.010444,
     "end_time": "2024-01-21T08:00:35.328140",
     "exception": false,
     "start_time": "2024-01-21T08:00:35.317696",
     "status": "completed"
    },
    "tags": []
   },
   "source": [
    "Great! We can now begin creating our model for deep learning!"
   ]
  },
  {
   "cell_type": "code",
   "execution_count": 19,
   "id": "e8f44fda",
   "metadata": {
    "execution": {
     "iopub.execute_input": "2024-01-21T08:00:35.350488Z",
     "iopub.status.busy": "2024-01-21T08:00:35.350097Z",
     "iopub.status.idle": "2024-01-21T08:06:58.781001Z",
     "shell.execute_reply": "2024-01-21T08:06:58.779760Z"
    },
    "papermill": {
     "duration": 383.444735,
     "end_time": "2024-01-21T08:06:58.783343",
     "exception": false,
     "start_time": "2024-01-21T08:00:35.338608",
     "status": "completed"
    },
    "tags": []
   },
   "outputs": [
    {
     "name": "stdout",
     "output_type": "stream",
     "text": [
      "Epoch 1/20\n",
      "9610/9610 [==============================] - 20s 2ms/step - loss: 0.2742\n",
      "Epoch 2/20\n",
      "9610/9610 [==============================] - 19s 2ms/step - loss: 0.2715\n",
      "Epoch 3/20\n",
      "9610/9610 [==============================] - 19s 2ms/step - loss: 0.2710\n",
      "Epoch 4/20\n",
      "9610/9610 [==============================] - 19s 2ms/step - loss: 0.2708\n",
      "Epoch 5/20\n",
      "9610/9610 [==============================] - 18s 2ms/step - loss: 0.2708\n",
      "Epoch 6/20\n",
      "9610/9610 [==============================] - 19s 2ms/step - loss: 0.2705\n",
      "Epoch 7/20\n",
      "9610/9610 [==============================] - 18s 2ms/step - loss: 0.2704\n",
      "Epoch 8/20\n",
      "9610/9610 [==============================] - 19s 2ms/step - loss: 0.2704\n",
      "Epoch 9/20\n",
      "9610/9610 [==============================] - 19s 2ms/step - loss: 0.2702\n",
      "Epoch 10/20\n",
      "9610/9610 [==============================] - 19s 2ms/step - loss: 0.2702\n",
      "Epoch 11/20\n",
      "9610/9610 [==============================] - 19s 2ms/step - loss: 0.2701\n",
      "Epoch 12/20\n",
      "9610/9610 [==============================] - 18s 2ms/step - loss: 0.2701\n",
      "Epoch 13/20\n",
      "9610/9610 [==============================] - 18s 2ms/step - loss: 0.2700\n",
      "Epoch 14/20\n",
      "9610/9610 [==============================] - 18s 2ms/step - loss: 0.2700\n",
      "Epoch 15/20\n",
      "9610/9610 [==============================] - 18s 2ms/step - loss: 0.2699\n",
      "Epoch 16/20\n",
      "9610/9610 [==============================] - 18s 2ms/step - loss: 0.2698\n",
      "Epoch 17/20\n",
      "9610/9610 [==============================] - 18s 2ms/step - loss: 0.2698\n",
      "Epoch 18/20\n",
      "9610/9610 [==============================] - 19s 2ms/step - loss: 0.2697\n",
      "Epoch 19/20\n",
      "9610/9610 [==============================] - 19s 2ms/step - loss: 0.2696\n",
      "Epoch 20/20\n",
      "9610/9610 [==============================] - 18s 2ms/step - loss: 0.2696\n"
     ]
    },
    {
     "data": {
      "text/plain": [
       "<keras.src.callbacks.History at 0x7933925432e0>"
      ]
     },
     "execution_count": 19,
     "metadata": {},
     "output_type": "execute_result"
    }
   ],
   "source": [
    "X = df_train.loc[:, df_train.columns!='TARGET']\n",
    "y = df_train['TARGET']\n",
    "model = Sequential([\n",
    "    Dense(units = 25, activation = 'relu'),\n",
    "    Dense(units = 15, activation = 'relu'),\n",
    "    Dense(units = 5, activation = 'relu'),\n",
    "    Dense(units = 1, activation = 'linear') # we only have 1 output unit since this is a classification problem.\n",
    "])\n",
    "\n",
    "X = df_train.loc[:, df_train.columns!='TARGET']\n",
    "y = df_train['TARGET']\n",
    "# model = Sequential([\n",
    "#     Dense(units = 25, activation = 'relu'),\n",
    "#     Dense(units = 15, activation = 'relu'),\n",
    "#     Dense(units = 5, activation = 'relu'),\n",
    "#     Dense(units = 1, activation = 'sigmoid') # we only have 1 output unit since this is a classification problem.\n",
    "# ])\n",
    "\n",
    "# model.compile(loss = tf.keras.losses.BinaryCrossentropy(),\n",
    "#               optimizer = tf.keras.optimizers.Adam(learning_rate = 0.002))\n",
    "\n",
    "# model.fit(X,y, epochs = 20)\n",
    "# logits = model.predict(X_test)\n",
    "model.compile(loss = tf.keras.losses.BinaryCrossentropy(from_logits = True),\n",
    "              optimizer = tf.keras.optimizers.Adam(learning_rate = 0.002))\n",
    "\n",
    "model.fit(X,y, epochs = 20)"
   ]
  },
  {
   "cell_type": "code",
   "execution_count": 20,
   "id": "878a305e",
   "metadata": {
    "execution": {
     "iopub.execute_input": "2024-01-21T08:06:59.766608Z",
     "iopub.status.busy": "2024-01-21T08:06:59.766270Z",
     "iopub.status.idle": "2024-01-21T08:07:00.636267Z",
     "shell.execute_reply": "2024-01-21T08:07:00.634628Z"
    },
    "papermill": {
     "duration": 1.36586,
     "end_time": "2024-01-21T08:07:00.638765",
     "exception": false,
     "start_time": "2024-01-21T08:06:59.272905",
     "status": "completed"
    },
    "tags": []
   },
   "outputs": [],
   "source": [
    "application_test =  pd.read_csv(directory + \"/application_test.csv\")\n",
    "X_test = application_test.copy()\n",
    "X_test.drop([\"EXT_SOURCE_2\", \"SK_ID_CURR\", 'WEEKDAY_APPR_PROCESS_START', 'ORGANIZATION_TYPE', 'NAME_EDUCATION_TYPE', 'NAME_FAMILY_STATUS', 'NAME_HOUSING_TYPE', 'NAME_INCOME_TYPE', 'CODE_GENDER'] + columns_to_drop, axis = 1, inplace = True) # drop the columns that we dropped for the training set\n",
    "columns_to_encode = ['NAME_CONTRACT_TYPE', 'FLAG_OWN_CAR', 'FLAG_OWN_REALTY']\n",
    "\n",
    "X_test['LOAN_INCOME_RATIO'] = X_test['AMT_CREDIT'] /  X_test['AMT_INCOME_TOTAL']\n",
    "X_test['ANNUITY_INCOME_RATIO'] = X_test['AMT_ANNUITY'] / X_test['AMT_INCOME_TOTAL']\n",
    "X_test.drop(['AMT_CREDIT', 'AMT_ANNUITY', 'AMT_INCOME_TOTAL'], inplace=True, axis=1)\n",
    "\n",
    "for col in columns_to_encode:\n",
    "    X_test = one_hot_encoder(X_test[col], X_test, col)\n",
    "    X_test = X_test.drop([col], axis = 1)\n",
    "\n",
    "X_test.drop(list(X_test.filter(regex='FLAG_DOCUMENT')), axis=1, inplace=True)"
   ]
  },
  {
   "cell_type": "code",
   "execution_count": 21,
   "id": "ef08b3dc",
   "metadata": {
    "execution": {
     "iopub.execute_input": "2024-01-21T08:07:01.686682Z",
     "iopub.status.busy": "2024-01-21T08:07:01.685512Z",
     "iopub.status.idle": "2024-01-21T08:07:04.007999Z",
     "shell.execute_reply": "2024-01-21T08:07:04.006813Z"
    },
    "papermill": {
     "duration": 2.882283,
     "end_time": "2024-01-21T08:07:04.010487",
     "exception": false,
     "start_time": "2024-01-21T08:07:01.128204",
     "status": "completed"
    },
    "tags": []
   },
   "outputs": [
    {
     "name": "stdout",
     "output_type": "stream",
     "text": [
      "1524/1524 [==============================] - 2s 1ms/step\n"
     ]
    },
    {
     "data": {
      "text/plain": [
       "<tf.Tensor: shape=(48744, 1), dtype=float32, numpy=\n",
       "array([[0.],\n",
       "       [0.],\n",
       "       [0.],\n",
       "       ...,\n",
       "       [0.],\n",
       "       [0.],\n",
       "       [0.]], dtype=float32)>"
      ]
     },
     "execution_count": 21,
     "metadata": {},
     "output_type": "execute_result"
    }
   ],
   "source": [
    "logits = model.predict(X_test)\n",
    "probabilities = tf.nn.sigmoid(logits)\n",
    "probabilities\n",
    "# probabilities = model.predict(X_test)\n",
    "# print(probabilities)"
   ]
  },
  {
   "cell_type": "code",
   "execution_count": 22,
   "id": "32640b19",
   "metadata": {
    "execution": {
     "iopub.execute_input": "2024-01-21T08:07:05.013326Z",
     "iopub.status.busy": "2024-01-21T08:07:05.012787Z",
     "iopub.status.idle": "2024-01-21T08:07:05.075530Z",
     "shell.execute_reply": "2024-01-21T08:07:05.074329Z"
    },
    "papermill": {
     "duration": 0.571041,
     "end_time": "2024-01-21T08:07:05.077854",
     "exception": false,
     "start_time": "2024-01-21T08:07:04.506813",
     "status": "completed"
    },
    "tags": []
   },
   "outputs": [],
   "source": [
    "output = pd.DataFrame({\"SK_ID_CURR\" : application_test[\"SK_ID_CURR\"], 'TARGET': probabilities.numpy().reshape(-1)})\n",
    "output.to_csv('submission.csv', index = False)"
   ]
  }
 ],
 "metadata": {
  "kaggle": {
   "accelerator": "none",
   "dataSources": [
    {
     "databundleVersionId": 860599,
     "sourceId": 9120,
     "sourceType": "competition"
    }
   ],
   "dockerImageVersionId": 30626,
   "isGpuEnabled": false,
   "isInternetEnabled": true,
   "language": "python",
   "sourceType": "notebook"
  },
  "kernelspec": {
   "display_name": "Python 3",
   "language": "python",
   "name": "python3"
  },
  "language_info": {
   "codemirror_mode": {
    "name": "ipython",
    "version": 3
   },
   "file_extension": ".py",
   "mimetype": "text/x-python",
   "name": "python",
   "nbconvert_exporter": "python",
   "pygments_lexer": "ipython3",
   "version": "3.10.12"
  },
  "papermill": {
   "default_parameters": {},
   "duration": 430.895046,
   "end_time": "2024-01-21T08:07:07.256608",
   "environment_variables": {},
   "exception": null,
   "input_path": "__notebook__.ipynb",
   "output_path": "__notebook__.ipynb",
   "parameters": {},
   "start_time": "2024-01-21T07:59:56.361562",
   "version": "2.4.0"
  }
 },
 "nbformat": 4,
 "nbformat_minor": 5
}
